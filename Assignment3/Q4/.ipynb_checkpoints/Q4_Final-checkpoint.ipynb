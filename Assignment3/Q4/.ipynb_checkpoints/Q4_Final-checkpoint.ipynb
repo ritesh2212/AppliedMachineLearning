{
 "cells": [
  {
   "cell_type": "code",
   "execution_count": 1,
   "metadata": {},
   "outputs": [],
   "source": [
    "import pandas as pd\n",
    "import numpy as np\n",
    "from sklearn.ensemble import AdaBoostRegressor\n",
    "from sklearn.model_selection import train_test_split\n",
    "df = pd.read_csv('train.csv',nrows=1000000)"
   ]
  },
  {
   "cell_type": "markdown",
   "metadata": {},
   "source": [
    "# Calculate distance with respect to latitude and longitude"
   ]
  },
  {
   "cell_type": "code",
   "execution_count": 2,
   "metadata": {},
   "outputs": [],
   "source": [
    "from math import sin, cos, sqrt, atan2, radians\n",
    "def calculateDistance(d_lon, d_lat,lat_p,lat_d):\n",
    "    # approximate radius of earth in km\n",
    "    R = 6373.0\n",
    "    dlon = d_lon\n",
    "    dlat = d_lat\n",
    "    distance = []\n",
    "    for i in range(len(d_lon)):\n",
    "        a = sin(dlat[i] / 2)**2 + cos(lat_p[i]) * cos(lat_d[i]) * sin(dlon[i] / 2)**2\n",
    "        c = 2 * atan2(sqrt(a), sqrt(1 - a))\n",
    "        distance.append(R*c)\n",
    "    distance = np.asarray(distance)\n",
    "    print(distance[:5])\n",
    "    return distance"
   ]
  },
  {
   "cell_type": "code",
   "execution_count": 3,
   "metadata": {},
   "outputs": [
    {
     "name": "stdout",
     "output_type": "stream",
     "text": [
      "                             key  fare_amount          pickup_datetime  \\\n",
      "0    2009-06-15 17:26:21.0000001          4.5  2009-06-15 17:26:21 UTC   \n",
      "1    2010-01-05 16:52:16.0000002         16.9  2010-01-05 16:52:16 UTC   \n",
      "2   2011-08-18 00:35:00.00000049          5.7  2011-08-18 00:35:00 UTC   \n",
      "3    2012-04-21 04:30:42.0000001          7.7  2012-04-21 04:30:42 UTC   \n",
      "4  2010-03-09 07:51:00.000000135          5.3  2010-03-09 07:51:00 UTC   \n",
      "\n",
      "   pickup_longitude  pickup_latitude  dropoff_longitude  dropoff_latitude  \\\n",
      "0        -73.844311        40.721319         -73.841610         40.712278   \n",
      "1        -74.016048        40.711303         -73.979268         40.782004   \n",
      "2        -73.982738        40.761270         -73.991242         40.750562   \n",
      "3        -73.987130        40.733143         -73.991567         40.758092   \n",
      "4        -73.968095        40.768008         -73.956655         40.783762   \n",
      "\n",
      "   passenger_count  \n",
      "0                1  \n",
      "1                1  \n",
      "2                2  \n",
      "3                1  \n",
      "4                1  \n"
     ]
    }
   ],
   "source": [
    "#data = np.load(\"train_numpy.npy\")\n",
    "print(df.head())"
   ]
  },
  {
   "cell_type": "code",
   "execution_count": 4,
   "metadata": {},
   "outputs": [],
   "source": [
    "df['longitude_difference']= df['dropoff_longitude']-df['pickup_longitude']\n",
    "df['latitude_difference'] = df['dropoff_latitude']-df['pickup_latitude']"
   ]
  },
  {
   "cell_type": "code",
   "execution_count": 5,
   "metadata": {},
   "outputs": [
    {
     "name": "stdout",
     "output_type": "stream",
     "text": [
      "[ 60.09695026 507.40024081  87.02352385 161.47238614 123.98888534]\n"
     ]
    }
   ],
   "source": [
    "distance = calculateDistance(df['longitude_difference'].values,df['latitude_difference'].values,df['pickup_latitude'].values,df['dropoff_latitude'].values)\n",
    "df = df.drop(['dropoff_latitude', 'dropoff_longitude','pickup_latitude','pickup_longitude'], axis=1)"
   ]
  },
  {
   "cell_type": "markdown",
   "metadata": {},
   "source": [
    "# Stack distance and other data"
   ]
  },
  {
   "cell_type": "code",
   "execution_count": 6,
   "metadata": {},
   "outputs": [],
   "source": [
    "data = df.values\n",
    "data = np.hstack((data,distance[:,None]))"
   ]
  },
  {
   "cell_type": "markdown",
   "metadata": {},
   "source": [
    "# Drop missing rows, rows which have more than 6 passenger and fair less than 1"
   ]
  },
  {
   "cell_type": "code",
   "execution_count": 7,
   "metadata": {},
   "outputs": [
    {
     "name": "stdout",
     "output_type": "stream",
     "text": [
      "After removing NAn and drop rows :  (978727, 7)\n"
     ]
    }
   ],
   "source": [
    "data = data[data[:,1]>0]\n",
    "data = data[data[:,3]<6]\n",
    "dataframe = pd.DataFrame(data)\n",
    "f_data = dataframe.dropna(how = 'any',axis='rows')\n",
    "f_data = f_data.values\n",
    "print(\"After removing NAn and drop rows : \",f_data.shape)"
   ]
  },
  {
   "cell_type": "markdown",
   "metadata": {},
   "source": [
    "# Seprate the key, label and X_train"
   ]
  },
  {
   "cell_type": "code",
   "execution_count": 8,
   "metadata": {},
   "outputs": [],
   "source": [
    "data = f_data\n",
    "keys = data[:,0]\n",
    "labels = data[:,1]\n",
    "X_train = data[:,2:]"
   ]
  },
  {
   "cell_type": "code",
   "execution_count": 9,
   "metadata": {},
   "outputs": [
    {
     "name": "stdout",
     "output_type": "stream",
     "text": [
      "label shape  :  (978727,)\n",
      "data shape :  (978727, 5)\n"
     ]
    }
   ],
   "source": [
    "print(\"label shape  : \",labels.shape)\n",
    "print(\"data shape : \", X_train.shape)"
   ]
  },
  {
   "cell_type": "markdown",
   "metadata": {},
   "source": [
    "# Preprocess the column pickup_datetime "
   ]
  },
  {
   "cell_type": "code",
   "execution_count": 10,
   "metadata": {},
   "outputs": [],
   "source": [
    "col = X_train[:,0]\n",
    "string_date_rng = [str(x.strip(\" UTC\")) for x in col]"
   ]
  },
  {
   "cell_type": "code",
   "execution_count": 11,
   "metadata": {},
   "outputs": [],
   "source": [
    "split_key = [x.split() for x in string_date_rng]\n",
    "split_key = np.asarray(split_key)\n",
    "date, time = split_key[:,0],split_key[:,1] "
   ]
  },
  {
   "cell_type": "markdown",
   "metadata": {},
   "source": [
    "# Function to get date i.e. day month and year in seprate column"
   ]
  },
  {
   "cell_type": "code",
   "execution_count": 12,
   "metadata": {},
   "outputs": [],
   "source": [
    "def fun_date(date):\n",
    "    split_date = [x.split(\"-\") for x in date]\n",
    "    split_date = np.asarray(split_date)\n",
    "    year,month,day = split_date[:,0],split_date[:,1],split_date[:,2]\n",
    "    year = np.asarray(list(map(int, year)))\n",
    "    month = np.asarray(list(map(int, month)))\n",
    "    day = np.asarray(list(map(int, day)))\n",
    "    days = np.hstack((month[:,None],day[:,None]))\n",
    "    final_date = np.hstack((year[:,None],days))\n",
    "    return final_date"
   ]
  },
  {
   "cell_type": "markdown",
   "metadata": {},
   "source": [
    "# Seprate time in shifts day and night"
   ]
  },
  {
   "cell_type": "code",
   "execution_count": 13,
   "metadata": {},
   "outputs": [],
   "source": [
    "def getShift(hour):\n",
    "    if (hour >= 0 and hour <= 6):\n",
    "        return 1\n",
    "    else: \n",
    "        return 0"
   ]
  },
  {
   "cell_type": "code",
   "execution_count": 14,
   "metadata": {},
   "outputs": [],
   "source": [
    "def convert_into_hours(time):\n",
    "    split_time = [x.split(\":\") for x in time]\n",
    "    split_time = np.asarray(split_time)\n",
    "    hour,minutes,sec = split_time[:,0],split_time[:,1],split_time[:,2]\n",
    "    hours = []\n",
    "    hour= np.asarray(list(map(int, hour)))\n",
    "    for i in range(len(sec)):\n",
    "        hours.append(getShift(hour[i]))\n",
    "    hours = np.asarray(hours)\n",
    "    return hours"
   ]
  },
  {
   "cell_type": "markdown",
   "metadata": {},
   "source": [
    "# Stack date and time"
   ]
  },
  {
   "cell_type": "code",
   "execution_count": 15,
   "metadata": {},
   "outputs": [],
   "source": [
    "final_date = fun_date(date)\n",
    "hours = convert_into_hours(time)\n",
    "date_time = np.hstack((final_date,hours[:,None]))"
   ]
  },
  {
   "cell_type": "code",
   "execution_count": 16,
   "metadata": {},
   "outputs": [
    {
     "name": "stdout",
     "output_type": "stream",
     "text": [
      "date time shape :  (978727, 4)\n"
     ]
    }
   ],
   "source": [
    "print(\"date time shape : \",date_time.shape)\n",
    "total_data = np.hstack((date_time,np.absolute(X_train[:,1:])))"
   ]
  },
  {
   "cell_type": "markdown",
   "metadata": {},
   "source": [
    "# Gradient Boosting Classifier Model"
   ]
  },
  {
   "cell_type": "code",
   "execution_count": 17,
   "metadata": {},
   "outputs": [],
   "source": [
    "from sklearn.ensemble import GradientBoostingRegressor\n",
    "model_grad = GradientBoostingRegressor().fit(total_data, labels)\n",
    "#model_grad = GradientBoostingRegressor(learning_rate=0.1,min_samples_split=500,min_samples_leaf=50,max_depth=8,max_features='sqrt',subsample=0.75,random_state=12).fit(total_data, labels)"
   ]
  },
  {
   "cell_type": "markdown",
   "metadata": {},
   "source": [
    "# Linear Regression Model"
   ]
  },
  {
   "cell_type": "code",
   "execution_count": 18,
   "metadata": {},
   "outputs": [],
   "source": [
    "from sklearn.linear_model import LinearRegression\n",
    "model_linear = LinearRegression().fit(total_data, labels)"
   ]
  },
  {
   "cell_type": "markdown",
   "metadata": {},
   "source": [
    "# XGBoost Model"
   ]
  },
  {
   "cell_type": "code",
   "execution_count": 19,
   "metadata": {},
   "outputs": [
    {
     "name": "stderr",
     "output_type": "stream",
     "text": [
      "/work/test/anaconda3/lib/python3.6/site-packages/xgboost/core.py:614: UserWarning: Use subset (sliced data) of np.ndarray is not recommended because it will generate extra copies and increase memory consumption\n",
      "  \"because it will generate extra copies and increase memory consumption\")\n"
     ]
    },
    {
     "data": {
      "text/plain": [
       "XGBRegressor(base_score=0.5, booster='gbtree', colsample_bylevel=1,\n",
       "       colsample_bytree=1, gamma=0, importance_type='gain',\n",
       "       learning_rate=0.1, max_delta_step=0, max_depth=3,\n",
       "       min_child_weight=1, missing=None, n_estimators=100, n_jobs=1,\n",
       "       nthread=None, objective='reg:linear', random_state=42, reg_alpha=0,\n",
       "       reg_lambda=1, scale_pos_weight=1, seed=None, silent=True,\n",
       "       subsample=1)"
      ]
     },
     "execution_count": 19,
     "metadata": {},
     "output_type": "execute_result"
    }
   ],
   "source": [
    "import xgboost as xgb\n",
    "xgb_model = xgb.XGBRegressor(objective=\"reg:linear\",random_state=42)\n",
    "#xgb_model = xgb.XGBRegressor(learning_rate =0.1,n_estimators=1000, max_depth=5, min_child_weight=1, gamma=0, subsample=0.8, colsample_bytree=0.8, seed=27).fit(total_data,labels)\n",
    "xgb_model.fit(total_data,labels)"
   ]
  },
  {
   "cell_type": "markdown",
   "metadata": {},
   "source": [
    "# Load test file and preprocess it like we do in training dataset"
   ]
  },
  {
   "cell_type": "code",
   "execution_count": 20,
   "metadata": {},
   "outputs": [
    {
     "name": "stdout",
     "output_type": "stream",
     "text": [
      "test data shape : (9914, 7)\n",
      "[137.28955003 147.4781896   37.37425975 118.75587263 322.49623257]\n"
     ]
    }
   ],
   "source": [
    "df_test = pd.read_csv('test.csv')\n",
    "print(\"test data shape :\",df_test.shape)\n",
    "df_test['longitude_difference']= df_test['dropoff_longitude']-df_test['pickup_longitude']\n",
    "df_test['latitude_difference'] = df_test['dropoff_latitude']-df_test['pickup_latitude']\n",
    "\n",
    "distance_test = calculateDistance(df_test['longitude_difference'].values,df_test['latitude_difference'].values,df_test['pickup_latitude'].values,df_test['dropoff_latitude'].values)\n",
    "df_test = df_test.drop(['dropoff_latitude', 'dropoff_longitude','pickup_latitude','pickup_longitude'], axis=1)\n",
    "\n",
    "df_test = df_test.values"
   ]
  },
  {
   "cell_type": "markdown",
   "metadata": {},
   "source": [
    "# Segregate the dataset"
   ]
  },
  {
   "cell_type": "code",
   "execution_count": 21,
   "metadata": {},
   "outputs": [],
   "source": [
    "keys = df_test[:,0]\n",
    "X_test = df_test[:,1:]\n",
    "X_test = np.hstack((X_test,distance_test[:,None]))"
   ]
  },
  {
   "cell_type": "markdown",
   "metadata": {},
   "source": [
    "# Preprocess the column pickup_datetime "
   ]
  },
  {
   "cell_type": "code",
   "execution_count": 22,
   "metadata": {},
   "outputs": [],
   "source": [
    "col_test = X_test[:,0]\n",
    "test_date_rng = [str(x.strip(\" UTC\")) for x in col_test]\n",
    "split_key = [x.split() for x in test_date_rng]\n",
    "split_key = np.asarray(split_key)\n",
    "date, time = split_key[:,0],split_key[:,1] \n",
    "final_date_test = fun_date(date)\n",
    "hours_test = convert_into_hours(time)\n",
    "test_date_time = np.hstack((final_date_test,hours_test[:,None]))"
   ]
  },
  {
   "cell_type": "code",
   "execution_count": 23,
   "metadata": {},
   "outputs": [
    {
     "name": "stdout",
     "output_type": "stream",
     "text": [
      "(9914, 4)\n",
      "(9914, 8)\n"
     ]
    }
   ],
   "source": [
    "print(test_date_time.shape)\n",
    "test_data = np.hstack((test_date_time,np.absolute(X_test[:,1:])))\n",
    "print(test_data.shape)"
   ]
  },
  {
   "cell_type": "markdown",
   "metadata": {},
   "source": [
    "# Predict the result of Gradient Boosting Model and save in CSV"
   ]
  },
  {
   "cell_type": "code",
   "execution_count": 24,
   "metadata": {},
   "outputs": [],
   "source": [
    "predicted = model_grad.predict(test_data)\n",
    "predicted = np.around(predicted,decimals=1)\n",
    "final_res = np.hstack((keys[:,None],predicted[:,None]))\n",
    "fin_df = pd.DataFrame(final_res)\n",
    "fin_df.to_csv(\"submissions_gradient.csv\", sep=',',header=['key','fare_amount'],index=False)"
   ]
  },
  {
   "cell_type": "markdown",
   "metadata": {},
   "source": [
    "# Predict the result of Linear Model and save in CSV"
   ]
  },
  {
   "cell_type": "code",
   "execution_count": 25,
   "metadata": {},
   "outputs": [],
   "source": [
    "predicted = model_linear.predict(test_data)\n",
    "predicted = np.around(predicted,decimals=1)\n",
    "final_res = np.hstack((keys[:,None],predicted[:,None]))\n",
    "fin_df = pd.DataFrame(final_res)\n",
    "fin_df.to_csv(\"submissions_linear.csv\", sep=',',header=['key','fare_amount'],index=False)"
   ]
  },
  {
   "cell_type": "markdown",
   "metadata": {},
   "source": [
    "# Predict the result of XGBoost Classifier Model and save in CSV"
   ]
  },
  {
   "cell_type": "code",
   "execution_count": 26,
   "metadata": {},
   "outputs": [],
   "source": [
    "predicted = xgb_model.predict(test_data)\n",
    "predicted = np.around(predicted,decimals=1)\n",
    "final_res = np.hstack((keys[:,None],predicted[:,None]))\n",
    "fin_df = pd.DataFrame(final_res)\n",
    "fin_df.to_csv(\"submissions_xgb.csv\", sep=',',header=['key','fare_amount'],index=False)"
   ]
  },
  {
   "cell_type": "code",
   "execution_count": 27,
   "metadata": {},
   "outputs": [],
   "source": [
    "#xgb.plot_importance(xgb_model)"
   ]
  },
  {
   "cell_type": "code",
   "execution_count": null,
   "metadata": {},
   "outputs": [],
   "source": []
  }
 ],
 "metadata": {
  "kernelspec": {
   "display_name": "Python 3",
   "language": "python",
   "name": "python3"
  },
  "language_info": {
   "codemirror_mode": {
    "name": "ipython",
    "version": 3
   },
   "file_extension": ".py",
   "mimetype": "text/x-python",
   "name": "python",
   "nbconvert_exporter": "python",
   "pygments_lexer": "ipython3",
   "version": "3.5.2"
  }
 },
 "nbformat": 4,
 "nbformat_minor": 2
}
