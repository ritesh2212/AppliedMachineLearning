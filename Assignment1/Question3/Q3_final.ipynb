{
 "cells": [
  {
   "cell_type": "code",
   "execution_count": 1,
   "metadata": {},
   "outputs": [],
   "source": [
    "import numpy as np\n",
    "import pandas as pd\n",
    "import csv"
   ]
  },
  {
   "cell_type": "code",
   "execution_count": 21,
   "metadata": {},
   "outputs": [],
   "source": [
    "myname = \"Ritesh-Gupta-\"\n",
    "features = ['fixed acidity', 'volatile acidity', 'citric acid', 'residual sugar', 'chlorides', 'free sulfur dioxide', 'total sulfur dioxide', 'density', 'pH', 'sulphates', 'alcohol', 'quality']"
   ]
  },
  {
   "cell_type": "markdown",
   "metadata": {},
   "source": [
    "# Finding Unique Element and its count"
   ]
  },
  {
   "cell_type": "code",
   "execution_count": 3,
   "metadata": {},
   "outputs": [],
   "source": [
    "def unique_count_dict(col):\n",
    "    unique_elements, counts_elements = np.unique(col, return_counts=True)\n",
    "    return dict(zip(unique_elements,counts_elements))"
   ]
  },
  {
   "cell_type": "markdown",
   "metadata": {},
   "source": [
    "# Entropy function e = sum(-p*log2(p))"
   ]
  },
  {
   "cell_type": "code",
   "execution_count": 4,
   "metadata": {},
   "outputs": [],
   "source": [
    "def entropy(p):\n",
    "    return -np.sum(np.multiply(p,np.log2(p)))"
   ]
  },
  {
   "cell_type": "code",
   "execution_count": 5,
   "metadata": {},
   "outputs": [],
   "source": [
    "def impurity(rows):\n",
    "    count=unique_count_dict(rows[:,-1])\n",
    "    p = []\n",
    "    for label in count:\n",
    "        p.append(count[label]/float(len(rows)))\n",
    "    #return gini(p)\n",
    "    return entropy(p)"
   ]
  },
  {
   "cell_type": "markdown",
   "metadata": {},
   "source": [
    "# Gini Impurity g = 1- sum(pi^2)"
   ]
  },
  {
   "cell_type": "code",
   "execution_count": 6,
   "metadata": {},
   "outputs": [],
   "source": [
    "def gini(prob):\n",
    "    impurity=1\n",
    "    return (1 - np.sum(np.power(prob,2)))"
   ]
  },
  {
   "cell_type": "markdown",
   "metadata": {},
   "source": [
    "# Information Gain of a column"
   ]
  },
  {
   "cell_type": "code",
   "execution_count": 7,
   "metadata": {},
   "outputs": [],
   "source": [
    "def info_gain_entropy(current,left,right):\n",
    "    p =float(len(left))/len(left)+len(right)\n",
    "    left = np.asarray(left)\n",
    "    right = np.asarray(right)\n",
    "    return current-p*impurity(left)-(1-p)*impurity(right)"
   ]
  },
  {
   "cell_type": "markdown",
   "metadata": {},
   "source": [
    "# Finding Question"
   ]
  },
  {
   "cell_type": "code",
   "execution_count": 8,
   "metadata": {},
   "outputs": [],
   "source": [
    "class Question:\n",
    "    def __init__(self,column,value):\n",
    "        self.column=column\n",
    "        self.value=value\n",
    "    def match(self,data):\n",
    "        value=data[self.column]\n",
    "        return value>=self.value\n",
    "    def __repr__(self):\n",
    "        condition = \">=\"\n",
    "        return \"Is %s %s %s?\" % (features[self.column], condition, str(self.value))"
   ]
  },
  {
   "cell_type": "markdown",
   "metadata": {},
   "source": [
    "# Partition column based of question"
   ]
  },
  {
   "cell_type": "code",
   "execution_count": 9,
   "metadata": {},
   "outputs": [],
   "source": [
    "def split(data,val,col):\n",
    "    true_row,false_row=[],[]\n",
    "    for row in data:\n",
    "        if row[col] >= val:\n",
    "            true_row.append(row)\n",
    "        else:\n",
    "            false_row.append(row)\n",
    "    true_row  = np.asarray(true_row)\n",
    "    false_row = np.asarray(false_row) \n",
    "    return true_row,false_row"
   ]
  },
  {
   "cell_type": "markdown",
   "metadata": {},
   "source": [
    "# Calculate best gain and Split of dataset"
   ]
  },
  {
   "cell_type": "code",
   "execution_count": 10,
   "metadata": {},
   "outputs": [],
   "source": [
    "def best_split(rows):\n",
    "    best_gain=0\n",
    "    best_question=None\n",
    "    value = 0\n",
    "    column = 0\n",
    "    current=impurity(rows)\n",
    "    features=len(rows[0])-1\n",
    "    for col in range(features):\n",
    "        val = np.average(rows[:,col])\n",
    "        question = Question(col,val)\n",
    "        true_rows,false_rows = split(rows,val,col)\n",
    "        if len(true_rows) == 0 or len(false_rows) == 0:\n",
    "            continue\n",
    "        gain=info_gain_entropy(current,true_rows,false_rows)\n",
    "        if gain>=best_gain:\n",
    "                best_gain,best_question,value,column=gain,question,val,col\n",
    "    return best_gain,best_question,value,column"
   ]
  },
  {
   "cell_type": "markdown",
   "metadata": {},
   "source": [
    "# Class to store decision Node i.e. question of split left and right branch"
   ]
  },
  {
   "cell_type": "code",
   "execution_count": 11,
   "metadata": {},
   "outputs": [],
   "source": [
    "class DecisionNode:\n",
    "    def __init__(self,question,true_branch,false_branch):\n",
    "        self.question = question\n",
    "        self.true_branch = true_branch\n",
    "        self.false_branch = false_branch"
   ]
  },
  {
   "cell_type": "markdown",
   "metadata": {},
   "source": [
    "# Storing Leaf instance with % of occurence of label"
   ]
  },
  {
   "cell_type": "code",
   "execution_count": 12,
   "metadata": {},
   "outputs": [],
   "source": [
    "class Leaf:\n",
    "    def __init__(self,rows):\n",
    "        count = unique_count_dict(rows[:,-1])\n",
    "        p = {}\n",
    "        for label in count:\n",
    "            p[label] = count[label]/float(len(rows))\n",
    "        self.dict = p"
   ]
  },
  {
   "cell_type": "markdown",
   "metadata": {},
   "source": [
    "# Building tree recursively"
   ]
  },
  {
   "cell_type": "code",
   "execution_count": 13,
   "metadata": {},
   "outputs": [],
   "source": [
    "def build_tree(rows):\n",
    "    gain,ques,val,col=best_split(rows)\n",
    "    if gain==0:\n",
    "        return Leaf(rows)\n",
    "    true_rows, false_rows = split(rows,val,col)\n",
    "    true_branch = build_tree(true_rows)\n",
    "    false_branch = build_tree(false_rows)\n",
    "    return DecisionNode(ques,true_branch, false_branch)"
   ]
  },
  {
   "cell_type": "markdown",
   "metadata": {},
   "source": [
    "# Classify the predicted Node"
   ]
  },
  {
   "cell_type": "code",
   "execution_count": 14,
   "metadata": {},
   "outputs": [],
   "source": [
    "def classify(row, node):\n",
    "    if isinstance(node, Leaf):\n",
    "        return node.dict\n",
    "    if node.question.match(row):\n",
    "        return classify(row, node.true_branch)\n",
    "    else:\n",
    "        return classify(row, node.false_branch)"
   ]
  },
  {
   "cell_type": "code",
   "execution_count": 16,
   "metadata": {},
   "outputs": [],
   "source": [
    "def accuracy(result,c):\n",
    "    pred_label = []\n",
    "    max1 = 0\n",
    "    max2 = 0\n",
    "    val = 0\n",
    "    for i in range(len(result)):\n",
    "        d = 0.0\n",
    "        if len(result[i]) == 2: \n",
    "            for k,v in result[i].items():\n",
    "                #max1 = int(v.replace(\"%\",\"\"))\n",
    "                max1 = int(v)\n",
    "                d = k\n",
    "                if max1 > max2:\n",
    "                    d = k\n",
    "        else:\n",
    "            for k,v in result[i].items():\n",
    "                d = k\n",
    "        pred_label.append(d)\n",
    "    pred_label = np.asarray(pred_label)\n",
    "    count = 0\n",
    "    for i in range(len(c)):\n",
    "        if c[i] == pred_label[i]:\n",
    "            count +=1\n",
    "    return (count/len(c)*100)"
   ]
  },
  {
   "cell_type": "code",
   "execution_count": 17,
   "metadata": {},
   "outputs": [],
   "source": [
    "def run_decision_tree():\n",
    "    # Load data set\n",
    "    with open(\"wine-dataset.csv\") as f:\n",
    "        next(f, None)\n",
    "        data = [tuple(line) for line in csv.reader(f, delimiter=\",\")]\n",
    "    K = 10\n",
    "    f = open(myname+\"result.txt\", \"w\")\n",
    "    training_set = [x for i, x in enumerate(data) if i % K != 9]\n",
    "    test_set = [x for i, x in enumerate(data) if i % K == 9]\n",
    "    training_set = np.asarray(training_set,dtype=\"float\")\n",
    "    test_set = np.asarray(test_set,dtype=\"float\")\n",
    "    labels_ground = test_set[:,-1]\n",
    "    test_set = test_set[:,:11]\n",
    "\n",
    "    tree = build_tree(training_set)\n",
    "    result = []\n",
    "    for i in range(len(test_set)):\n",
    "        result.append(classify(test_set[i], tree))\n",
    "    acc = accuracy(result,labels_ground)\n",
    "    print(\"accuracy: %.4f\" % acc)\n",
    "    # Writing results to a file (DO NOT CHANGE)\n",
    "    #f.write(\"accuracy: %.4f\" % acc)\n",
    "    f.close()\n"
   ]
  },
  {
   "cell_type": "code",
   "execution_count": 22,
   "metadata": {},
   "outputs": [
    {
     "name": "stdout",
     "output_type": "stream",
     "text": [
      "accuracy: 81.1861\n"
     ]
    }
   ],
   "source": [
    "if __name__ == \"__main__\":\n",
    "    run_decision_tree()"
   ]
  },
  {
   "cell_type": "markdown",
   "metadata": {},
   "source": [
    "# Decision Tree Cross Validation"
   ]
  },
  {
   "cell_type": "code",
   "execution_count": 19,
   "metadata": {},
   "outputs": [],
   "source": [
    "def run_decision_tree_CV():\n",
    "    # Load data set\n",
    "    with open(\"wine-dataset.csv\") as f:\n",
    "        next(f, None)\n",
    "        data = [tuple(line) for line in csv.reader(f, delimiter=\",\")]\n",
    "    K = 10\n",
    "    results = np.zeros(K)\n",
    "    f = open(myname+\"result.txt\", \"w\")\n",
    "    for itr in range(K):\n",
    "        print(itr)\n",
    "        training_set = [x for i, x in enumerate(data) if i % K != itr]\n",
    "        test_set = [x for i, x in enumerate(data) if i % K == itr]\n",
    "        training_set = np.asarray(training_set,dtype=\"float\")\n",
    "        test_set = np.asarray(test_set,dtype=\"float\")\n",
    "        labels_ground = test_set[:,-1]\n",
    "        test_set = test_set[:,:11]\n",
    "        \n",
    "        tree = build_tree(training_set)\n",
    "        result = []\n",
    "        for i in range(len(test_set)):\n",
    "            result.append(classify(test_set[i], tree))\n",
    "        acc = accuracy(result,labels_ground)\n",
    "        results[itr] = acc\n",
    "        print(\"accuracy: %.4f\" % acc)\n",
    "    print(\"final accuracy: %.4f\" % np.average(results))\n",
    "    # Writing results to a file (DO NOT CHANGE)\n",
    "    #f.write(\"accuracy: %.4f\" % acc)\n",
    "    f.close()\n"
   ]
  },
  {
   "cell_type": "code",
   "execution_count": 20,
   "metadata": {},
   "outputs": [
    {
     "name": "stdout",
     "output_type": "stream",
     "text": [
      "0\n",
      "accuracy: 81.6327\n",
      "1\n",
      "accuracy: 83.4694\n",
      "2\n",
      "accuracy: 83.8776\n",
      "3\n",
      "accuracy: 81.2245\n",
      "4\n",
      "accuracy: 85.3061\n",
      "5\n",
      "accuracy: 82.8571\n",
      "6\n",
      "accuracy: 79.7959\n",
      "7\n",
      "accuracy: 81.2245\n",
      "8\n",
      "accuracy: 79.7546\n",
      "9\n",
      "accuracy: 81.1861\n",
      "final accuracy: 82.0328\n"
     ]
    }
   ],
   "source": [
    "if __name__ == \"__main__\":\n",
    "    run_decision_tree_CV()"
   ]
  },
  {
   "cell_type": "code",
   "execution_count": null,
   "metadata": {},
   "outputs": [],
   "source": []
  }
 ],
 "metadata": {
  "kernelspec": {
   "display_name": "Python 3",
   "language": "python",
   "name": "python3"
  },
  "language_info": {
   "codemirror_mode": {
    "name": "ipython",
    "version": 3
   },
   "file_extension": ".py",
   "mimetype": "text/x-python",
   "name": "python",
   "nbconvert_exporter": "python",
   "pygments_lexer": "ipython3",
   "version": "3.6.8"
  }
 },
 "nbformat": 4,
 "nbformat_minor": 2
}
