{
 "cells": [
  {
   "cell_type": "code",
   "execution_count": 69,
   "metadata": {},
   "outputs": [],
   "source": [
    "import numpy as np\n",
    "import pandas as pd\n",
    "import csv\n",
    "from sklearn.ensemble import RandomForestClassifier\n",
    "from sklearn.datasets import make_classification\n",
    "import random\n",
    "import time\n",
    "import matplotlib.pyplot as plt "
   ]
  },
  {
   "cell_type": "code",
   "execution_count": 2,
   "metadata": {},
   "outputs": [],
   "source": [
    "myname = \"Ritesh-Gupta-\"\n",
    "features = []\n",
    "for k in range(58):\n",
    "    features.append(str(k))"
   ]
  },
  {
   "cell_type": "code",
   "execution_count": 3,
   "metadata": {},
   "outputs": [],
   "source": [
    "f = open('dataset/spam_data.txt', 'r')\n",
    "data = []\n",
    "for line in f.readlines():\n",
    "    r = []\n",
    "    for word in line.split():\n",
    "        r.append(word)\n",
    "    data.append(r)\n",
    "f.close()\n",
    "data = np.asarray(data)\n",
    "data = data.astype(float)"
   ]
  },
  {
   "cell_type": "code",
   "execution_count": 4,
   "metadata": {},
   "outputs": [
    {
     "name": "stdout",
     "output_type": "stream",
     "text": [
      "(3220, 58)\n"
     ]
    }
   ],
   "source": [
    "length = len(data)\n",
    "np.random.shuffle(data)\n",
    "train_data = data[:int(0.7*length),:]\n",
    "test_data = data[int(0.7*length):,:]\n",
    "print(train_data.shape)"
   ]
  },
  {
   "cell_type": "code",
   "execution_count": 5,
   "metadata": {},
   "outputs": [
    {
     "name": "stdout",
     "output_type": "stream",
     "text": [
      "(1381, 57)\n"
     ]
    },
    {
     "data": {
      "text/plain": [
       "561.0"
      ]
     },
     "execution_count": 5,
     "metadata": {},
     "output_type": "execute_result"
    }
   ],
   "source": [
    "X_tra = train_data[:,:-1]\n",
    "y_tra = train_data[:,-1]\n",
    "X_test = test_data[:,:-1]\n",
    "y_test = test_data[:,57]\n",
    "print(X_test.shape)\n",
    "np.sum(y_test)"
   ]
  },
  {
   "cell_type": "code",
   "execution_count": 6,
   "metadata": {},
   "outputs": [
    {
     "data": {
      "text/plain": [
       "array([0., 1., 1., ..., 1., 1., 1.])"
      ]
     },
     "execution_count": 6,
     "metadata": {},
     "output_type": "execute_result"
    }
   ],
   "source": [
    "y_test"
   ]
  },
  {
   "cell_type": "markdown",
   "metadata": {},
   "source": [
    "# Finding Unique Element and its count"
   ]
  },
  {
   "cell_type": "code",
   "execution_count": 14,
   "metadata": {},
   "outputs": [],
   "source": [
    "def unique_count_dict(col):\n",
    "    unique_elements, counts_elements = np.unique(col, return_counts=True)\n",
    "    return dict(zip(unique_elements,counts_elements))"
   ]
  },
  {
   "cell_type": "markdown",
   "metadata": {},
   "source": [
    "# Entropy function e = sum(-p*log2(p))"
   ]
  },
  {
   "cell_type": "code",
   "execution_count": 15,
   "metadata": {},
   "outputs": [],
   "source": [
    "def entropy(p):\n",
    "    return -np.sum(np.multiply(p,np.log2(p)))"
   ]
  },
  {
   "cell_type": "code",
   "execution_count": 16,
   "metadata": {},
   "outputs": [],
   "source": [
    "def impurity(rows):\n",
    "    count=unique_count_dict(rows[:,-1])\n",
    "    p = []\n",
    "    for label in count:\n",
    "        p.append(count[label]/float(len(rows)))\n",
    "    #return gini(p)\n",
    "    return entropy(p)"
   ]
  },
  {
   "cell_type": "markdown",
   "metadata": {},
   "source": [
    "# Gini Impurity g = 1- sum(pi^2)"
   ]
  },
  {
   "cell_type": "code",
   "execution_count": 17,
   "metadata": {},
   "outputs": [],
   "source": [
    "def gini(prob):\n",
    "    impurity=1\n",
    "    return (1 - np.sum(np.power(prob,2)))"
   ]
  },
  {
   "cell_type": "markdown",
   "metadata": {},
   "source": [
    "# Information Gain of a column"
   ]
  },
  {
   "cell_type": "code",
   "execution_count": 18,
   "metadata": {},
   "outputs": [],
   "source": [
    "def info_gain_entropy(current,left,right):\n",
    "    p =float(len(left))/len(left)+len(right)\n",
    "    left = np.asarray(left)\n",
    "    right = np.asarray(right)\n",
    "    return current-p*impurity(left)-(1-p)*impurity(right)"
   ]
  },
  {
   "cell_type": "markdown",
   "metadata": {},
   "source": [
    "# Finding Question"
   ]
  },
  {
   "cell_type": "code",
   "execution_count": 19,
   "metadata": {},
   "outputs": [],
   "source": [
    "class Question:\n",
    "    def __init__(self,column,value):\n",
    "        self.column=column\n",
    "        self.value=value\n",
    "    def match(self,data):\n",
    "        value=data[self.column]\n",
    "        #print(self.column)\n",
    "        return value>=self.value\n",
    "    def __repr__(self):\n",
    "        condition = \">=\"\n",
    "        return \"Is %s %s %s?\" % (features[self.column], condition, str(self.value))"
   ]
  },
  {
   "cell_type": "markdown",
   "metadata": {},
   "source": [
    "# Partition column based of question"
   ]
  },
  {
   "cell_type": "code",
   "execution_count": 20,
   "metadata": {},
   "outputs": [],
   "source": [
    "def split(data,val,col):\n",
    "    true_row,false_row=[],[]\n",
    "    for row in data:\n",
    "        if row[col] >= val:\n",
    "            true_row.append(row)\n",
    "        else:\n",
    "            false_row.append(row)\n",
    "    true_row  = np.asarray(true_row)\n",
    "    false_row = np.asarray(false_row) \n",
    "    return true_row,false_row"
   ]
  },
  {
   "cell_type": "markdown",
   "metadata": {},
   "source": [
    "# Calculate best gain and Split of dataset"
   ]
  },
  {
   "cell_type": "code",
   "execution_count": 21,
   "metadata": {},
   "outputs": [],
   "source": [
    "def best_split(rows,feature_list):\n",
    "    best_gain=0\n",
    "    best_question=None\n",
    "    value = 0\n",
    "    column = 0\n",
    "    current=impurity(rows)\n",
    "    for col in feature_list:\n",
    "        val = np.average(rows[:,col])\n",
    "        question = Question(col,val)\n",
    "        true_rows,false_rows = split(rows,val,col)\n",
    "        if len(true_rows) == 0 or len(false_rows) == 0:\n",
    "            continue\n",
    "        gain=info_gain_entropy(current,true_rows,false_rows)\n",
    "        if gain>=best_gain:\n",
    "                best_gain,best_question,value,column=gain,question,val,col\n",
    "    return best_gain,best_question,value,column"
   ]
  },
  {
   "cell_type": "markdown",
   "metadata": {},
   "source": [
    "# Class to store decision Node i.e. question of split left and right branch"
   ]
  },
  {
   "cell_type": "code",
   "execution_count": 22,
   "metadata": {},
   "outputs": [],
   "source": [
    "class DecisionNode:\n",
    "    def __init__(self,question,true_branch,false_branch):\n",
    "        self.question = question\n",
    "        self.true_branch = true_branch\n",
    "        self.false_branch = false_branch"
   ]
  },
  {
   "cell_type": "markdown",
   "metadata": {},
   "source": [
    "# Storing Leaf instance with % of occurence of label"
   ]
  },
  {
   "cell_type": "code",
   "execution_count": 23,
   "metadata": {},
   "outputs": [],
   "source": [
    "class Leaf:\n",
    "    def __init__(self,rows):\n",
    "        count = unique_count_dict(rows[:,-1])\n",
    "        p = {}\n",
    "        for label in count:\n",
    "            p[label] = count[label]/float(len(rows))\n",
    "        self.dict = p"
   ]
  },
  {
   "cell_type": "code",
   "execution_count": null,
   "metadata": {},
   "outputs": [],
   "source": []
  },
  {
   "cell_type": "markdown",
   "metadata": {},
   "source": [
    "# Building tree recursively"
   ]
  },
  {
   "cell_type": "code",
   "execution_count": 24,
   "metadata": {},
   "outputs": [],
   "source": [
    "def build_tree(rows, feature_list):\n",
    "    gain,ques,val,col=best_split(rows, feature_list)\n",
    "    if gain==0:\n",
    "        return Leaf(rows)\n",
    "    true_rows, false_rows = split(rows,val,col)\n",
    "    true_branch = build_tree(true_rows,feature_list)\n",
    "    false_branch = build_tree(false_rows,feature_list)\n",
    "    return DecisionNode(ques,true_branch, false_branch)"
   ]
  },
  {
   "cell_type": "markdown",
   "metadata": {},
   "source": [
    "# Classify the predicted Node"
   ]
  },
  {
   "cell_type": "code",
   "execution_count": 25,
   "metadata": {},
   "outputs": [],
   "source": [
    "def classify(row, node):\n",
    "    if isinstance(node, Leaf):\n",
    "        #print(node,Leaf)\n",
    "        return node.dict\n",
    "    if node.question.match(row):\n",
    "        #print(node.question.match(row))\n",
    "        return classify(row, node.true_branch)\n",
    "    else:\n",
    "        #print(node.question.match(row))\n",
    "        return classify(row, node.false_branch)"
   ]
  },
  {
   "cell_type": "markdown",
   "metadata": {},
   "source": [
    "# Function to calculate accuracy"
   ]
  },
  {
   "cell_type": "code",
   "execution_count": 54,
   "metadata": {},
   "outputs": [],
   "source": [
    "def accuracy(result,c):\n",
    "    pred_label = []\n",
    "    val = 0\n",
    "    count = 0\n",
    "    for i in range(len(c)):\n",
    "        if c[i] == result[i]:\n",
    "            count +=1\n",
    "    return (count/len(c)*100)"
   ]
  },
  {
   "cell_type": "markdown",
   "metadata": {},
   "source": [
    "# Parse the dictionary of leaf"
   ]
  },
  {
   "cell_type": "code",
   "execution_count": 27,
   "metadata": {},
   "outputs": [],
   "source": [
    "def parseDict(p):\n",
    "    max1 = 0\n",
    "    max2 = 0\n",
    "    if len(p) == 2: \n",
    "        for k,v in p.items():\n",
    "            #max1 = int(v.replace(\"%\",\"\"))\n",
    "            max1 = int(v)\n",
    "            d = k\n",
    "            if max1 > max2:\n",
    "                d = k\n",
    "    else:\n",
    "        for k,v in p.items():\n",
    "            d = k\n",
    "    return d"
   ]
  },
  {
   "cell_type": "markdown",
   "metadata": {},
   "source": [
    "# Test the accuracy"
   ]
  },
  {
   "cell_type": "code",
   "execution_count": 55,
   "metadata": {},
   "outputs": [],
   "source": [
    "def test(total_tree,X_test,y_test):\n",
    "    pred = []\n",
    "    for i in range(len(X_test)):\n",
    "        res = []\n",
    "        for j in range(len(total_tree)):\n",
    "            p = classify(X_test[i], total_tree[j])\n",
    "            res.append(parseDict(p))\n",
    "        res = np.asarray(res)\n",
    "        count1 = np.sum(res)\n",
    "        count0 = len(total_tree) - count1\n",
    "        if count1 > count0:\n",
    "            pred.append(1.0)\n",
    "        else:\n",
    "            pred.append(0.0)\n",
    "    pred = np.asarray(pred)\n",
    "    return accuracy(pred,y_test)"
   ]
  },
  {
   "cell_type": "code",
   "execution_count": null,
   "metadata": {},
   "outputs": [],
   "source": [
    "# Random FOrest creation."
   ]
  },
  {
   "cell_type": "code",
   "execution_count": 29,
   "metadata": {},
   "outputs": [],
   "source": [
    "def randomforest(m):\n",
    "    total_feature = train_data.shape[1]-1\n",
    "    no_of_itr = 10\n",
    "    acc = []\n",
    "    pred = []\n",
    "    total_tree = []\n",
    "    for itr in range(no_of_itr):\n",
    "        rand = np.arange(total_feature)\n",
    "        rand = list(rand)\n",
    "        feature_list = random.sample(rand, k=m)\n",
    "        print('Done with Iteration', itr)\n",
    "        features_to_train = m\n",
    "        sample = 2000\n",
    "        X_tr = train_data[:sample,:]\n",
    "        #build the tree\n",
    "        tree = build_tree(X_tr,feature_list)\n",
    "        total_tree.append(tree)\n",
    "    return total_tree"
   ]
  },
  {
   "cell_type": "markdown",
   "metadata": {},
   "source": [
    "# Creating Trees and Testing the accuracy of RF."
   ]
  },
  {
   "cell_type": "code",
   "execution_count": 71,
   "metadata": {},
   "outputs": [
    {
     "name": "stdout",
     "output_type": "stream",
     "text": [
      "Done with Iteration 0\n",
      "Done with Iteration 1\n",
      "Done with Iteration 2\n",
      "Done with Iteration 3\n",
      "Done with Iteration 4\n",
      "Done with Iteration 5\n",
      "Done with Iteration 6\n",
      "Done with Iteration 7\n",
      "Done with Iteration 8\n",
      "Done with Iteration 9\n",
      "88.41419261404779\n",
      "145.24970197677612\n"
     ]
    }
   ],
   "source": [
    "start = time.time()\n",
    "print(test(randomforest(40),X_test,y_test))\n",
    "end = time.time()\n",
    "print(end-start)"
   ]
  },
  {
   "cell_type": "markdown",
   "metadata": {},
   "source": [
    "# Classify with Scikit-Learn Random Forest"
   ]
  },
  {
   "cell_type": "code",
   "execution_count": 66,
   "metadata": {},
   "outputs": [
    {
     "name": "stderr",
     "output_type": "stream",
     "text": [
      "/home/ritesh/anaconda3/lib/python3.6/site-packages/sklearn/ensemble/forest.py:246: FutureWarning: The default value of n_estimators will change from 10 in version 0.20 to 100 in 0.22.\n",
      "  \"10 in version 0.20 to 100 in 0.22.\", FutureWarning)\n"
     ]
    },
    {
     "name": "stdout",
     "output_type": "stream",
     "text": [
      "Accuracy 94.6415640839971\n",
      "Time of Scikit-learn RF  0.23510098457336426\n"
     ]
    }
   ],
   "source": [
    "start = time.time()\n",
    "clf=RandomForestClassifier()\n",
    "clf.fit(X_tra, y_tra)\n",
    "pred = clf.predict(X_test)\n",
    "print(\"Accuracy\", accuracy(pred,y_test))\n",
    "end= time.time()\n",
    "print(\"Time of Scikit-learn RF \",end-start)"
   ]
  },
  {
   "cell_type": "markdown",
   "metadata": {},
   "source": [
    "# Test with different m Scikit-learn"
   ]
  },
  {
   "cell_type": "code",
   "execution_count": 40,
   "metadata": {},
   "outputs": [
    {
     "name": "stderr",
     "output_type": "stream",
     "text": [
      "/home/ritesh/anaconda3/lib/python3.6/site-packages/sklearn/ensemble/forest.py:246: FutureWarning: The default value of n_estimators will change from 10 in version 0.20 to 100 in 0.22.\n",
      "  \"10 in version 0.20 to 100 in 0.22.\", FutureWarning)\n",
      "/home/ritesh/anaconda3/lib/python3.6/site-packages/sklearn/ensemble/forest.py:246: FutureWarning: The default value of n_estimators will change from 10 in version 0.20 to 100 in 0.22.\n",
      "  \"10 in version 0.20 to 100 in 0.22.\", FutureWarning)\n"
     ]
    },
    {
     "name": "stdout",
     "output_type": "stream",
     "text": [
      "1381 1381\n",
      "1381 1381\n"
     ]
    },
    {
     "name": "stderr",
     "output_type": "stream",
     "text": [
      "/home/ritesh/anaconda3/lib/python3.6/site-packages/sklearn/ensemble/forest.py:246: FutureWarning: The default value of n_estimators will change from 10 in version 0.20 to 100 in 0.22.\n",
      "  \"10 in version 0.20 to 100 in 0.22.\", FutureWarning)\n"
     ]
    },
    {
     "name": "stdout",
     "output_type": "stream",
     "text": [
      "1381 1381\n"
     ]
    },
    {
     "name": "stderr",
     "output_type": "stream",
     "text": [
      "/home/ritesh/anaconda3/lib/python3.6/site-packages/sklearn/ensemble/forest.py:246: FutureWarning: The default value of n_estimators will change from 10 in version 0.20 to 100 in 0.22.\n",
      "  \"10 in version 0.20 to 100 in 0.22.\", FutureWarning)\n"
     ]
    },
    {
     "name": "stdout",
     "output_type": "stream",
     "text": [
      "1381 1381\n",
      "1381 1381\n"
     ]
    },
    {
     "name": "stderr",
     "output_type": "stream",
     "text": [
      "/home/ritesh/anaconda3/lib/python3.6/site-packages/sklearn/ensemble/forest.py:246: FutureWarning: The default value of n_estimators will change from 10 in version 0.20 to 100 in 0.22.\n",
      "  \"10 in version 0.20 to 100 in 0.22.\", FutureWarning)\n",
      "/home/ritesh/anaconda3/lib/python3.6/site-packages/sklearn/ensemble/forest.py:246: FutureWarning: The default value of n_estimators will change from 10 in version 0.20 to 100 in 0.22.\n",
      "  \"10 in version 0.20 to 100 in 0.22.\", FutureWarning)\n"
     ]
    },
    {
     "name": "stdout",
     "output_type": "stream",
     "text": [
      "1381 1381\n",
      "1381 1381\n"
     ]
    },
    {
     "name": "stderr",
     "output_type": "stream",
     "text": [
      "/home/ritesh/anaconda3/lib/python3.6/site-packages/sklearn/ensemble/forest.py:246: FutureWarning: The default value of n_estimators will change from 10 in version 0.20 to 100 in 0.22.\n",
      "  \"10 in version 0.20 to 100 in 0.22.\", FutureWarning)\n",
      "/home/ritesh/anaconda3/lib/python3.6/site-packages/sklearn/ensemble/forest.py:246: FutureWarning: The default value of n_estimators will change from 10 in version 0.20 to 100 in 0.22.\n",
      "  \"10 in version 0.20 to 100 in 0.22.\", FutureWarning)\n"
     ]
    },
    {
     "name": "stdout",
     "output_type": "stream",
     "text": [
      "1381 1381\n"
     ]
    },
    {
     "name": "stderr",
     "output_type": "stream",
     "text": [
      "/home/ritesh/anaconda3/lib/python3.6/site-packages/sklearn/ensemble/forest.py:246: FutureWarning: The default value of n_estimators will change from 10 in version 0.20 to 100 in 0.22.\n",
      "  \"10 in version 0.20 to 100 in 0.22.\", FutureWarning)\n"
     ]
    },
    {
     "name": "stdout",
     "output_type": "stream",
     "text": [
      "1381 1381\n"
     ]
    },
    {
     "name": "stderr",
     "output_type": "stream",
     "text": [
      "/home/ritesh/anaconda3/lib/python3.6/site-packages/sklearn/ensemble/forest.py:246: FutureWarning: The default value of n_estimators will change from 10 in version 0.20 to 100 in 0.22.\n",
      "  \"10 in version 0.20 to 100 in 0.22.\", FutureWarning)\n"
     ]
    },
    {
     "name": "stdout",
     "output_type": "stream",
     "text": [
      "1381 1381\n"
     ]
    },
    {
     "name": "stderr",
     "output_type": "stream",
     "text": [
      "/home/ritesh/anaconda3/lib/python3.6/site-packages/sklearn/ensemble/forest.py:246: FutureWarning: The default value of n_estimators will change from 10 in version 0.20 to 100 in 0.22.\n",
      "  \"10 in version 0.20 to 100 in 0.22.\", FutureWarning)\n"
     ]
    },
    {
     "name": "stdout",
     "output_type": "stream",
     "text": [
      "1381 1381\n"
     ]
    },
    {
     "name": "stderr",
     "output_type": "stream",
     "text": [
      "/home/ritesh/anaconda3/lib/python3.6/site-packages/sklearn/ensemble/forest.py:246: FutureWarning: The default value of n_estimators will change from 10 in version 0.20 to 100 in 0.22.\n",
      "  \"10 in version 0.20 to 100 in 0.22.\", FutureWarning)\n"
     ]
    },
    {
     "name": "stdout",
     "output_type": "stream",
     "text": [
      "1381 1381\n"
     ]
    },
    {
     "name": "stderr",
     "output_type": "stream",
     "text": [
      "/home/ritesh/anaconda3/lib/python3.6/site-packages/sklearn/ensemble/forest.py:246: FutureWarning: The default value of n_estimators will change from 10 in version 0.20 to 100 in 0.22.\n",
      "  \"10 in version 0.20 to 100 in 0.22.\", FutureWarning)\n"
     ]
    },
    {
     "name": "stdout",
     "output_type": "stream",
     "text": [
      "1381 1381\n"
     ]
    },
    {
     "name": "stderr",
     "output_type": "stream",
     "text": [
      "/home/ritesh/anaconda3/lib/python3.6/site-packages/sklearn/ensemble/forest.py:246: FutureWarning: The default value of n_estimators will change from 10 in version 0.20 to 100 in 0.22.\n",
      "  \"10 in version 0.20 to 100 in 0.22.\", FutureWarning)\n"
     ]
    },
    {
     "name": "stdout",
     "output_type": "stream",
     "text": [
      "1381 1381\n"
     ]
    },
    {
     "name": "stderr",
     "output_type": "stream",
     "text": [
      "/home/ritesh/anaconda3/lib/python3.6/site-packages/sklearn/ensemble/forest.py:246: FutureWarning: The default value of n_estimators will change from 10 in version 0.20 to 100 in 0.22.\n",
      "  \"10 in version 0.20 to 100 in 0.22.\", FutureWarning)\n"
     ]
    },
    {
     "name": "stdout",
     "output_type": "stream",
     "text": [
      "1381 1381\n"
     ]
    },
    {
     "name": "stderr",
     "output_type": "stream",
     "text": [
      "/home/ritesh/anaconda3/lib/python3.6/site-packages/sklearn/ensemble/forest.py:246: FutureWarning: The default value of n_estimators will change from 10 in version 0.20 to 100 in 0.22.\n",
      "  \"10 in version 0.20 to 100 in 0.22.\", FutureWarning)\n"
     ]
    },
    {
     "name": "stdout",
     "output_type": "stream",
     "text": [
      "1381 1381\n"
     ]
    },
    {
     "name": "stderr",
     "output_type": "stream",
     "text": [
      "/home/ritesh/anaconda3/lib/python3.6/site-packages/sklearn/ensemble/forest.py:246: FutureWarning: The default value of n_estimators will change from 10 in version 0.20 to 100 in 0.22.\n",
      "  \"10 in version 0.20 to 100 in 0.22.\", FutureWarning)\n"
     ]
    },
    {
     "name": "stdout",
     "output_type": "stream",
     "text": [
      "1381 1381\n"
     ]
    },
    {
     "name": "stderr",
     "output_type": "stream",
     "text": [
      "/home/ritesh/anaconda3/lib/python3.6/site-packages/sklearn/ensemble/forest.py:246: FutureWarning: The default value of n_estimators will change from 10 in version 0.20 to 100 in 0.22.\n",
      "  \"10 in version 0.20 to 100 in 0.22.\", FutureWarning)\n"
     ]
    },
    {
     "name": "stdout",
     "output_type": "stream",
     "text": [
      "1381 1381\n"
     ]
    },
    {
     "name": "stderr",
     "output_type": "stream",
     "text": [
      "/home/ritesh/anaconda3/lib/python3.6/site-packages/sklearn/ensemble/forest.py:246: FutureWarning: The default value of n_estimators will change from 10 in version 0.20 to 100 in 0.22.\n",
      "  \"10 in version 0.20 to 100 in 0.22.\", FutureWarning)\n"
     ]
    },
    {
     "name": "stdout",
     "output_type": "stream",
     "text": [
      "1381 1381\n"
     ]
    },
    {
     "name": "stderr",
     "output_type": "stream",
     "text": [
      "/home/ritesh/anaconda3/lib/python3.6/site-packages/sklearn/ensemble/forest.py:246: FutureWarning: The default value of n_estimators will change from 10 in version 0.20 to 100 in 0.22.\n",
      "  \"10 in version 0.20 to 100 in 0.22.\", FutureWarning)\n"
     ]
    },
    {
     "name": "stdout",
     "output_type": "stream",
     "text": [
      "1381 1381\n"
     ]
    },
    {
     "name": "stderr",
     "output_type": "stream",
     "text": [
      "/home/ritesh/anaconda3/lib/python3.6/site-packages/sklearn/ensemble/forest.py:246: FutureWarning: The default value of n_estimators will change from 10 in version 0.20 to 100 in 0.22.\n",
      "  \"10 in version 0.20 to 100 in 0.22.\", FutureWarning)\n"
     ]
    },
    {
     "name": "stdout",
     "output_type": "stream",
     "text": [
      "1381 1381\n"
     ]
    },
    {
     "name": "stderr",
     "output_type": "stream",
     "text": [
      "/home/ritesh/anaconda3/lib/python3.6/site-packages/sklearn/ensemble/forest.py:246: FutureWarning: The default value of n_estimators will change from 10 in version 0.20 to 100 in 0.22.\n",
      "  \"10 in version 0.20 to 100 in 0.22.\", FutureWarning)\n"
     ]
    },
    {
     "name": "stdout",
     "output_type": "stream",
     "text": [
      "1381 1381\n"
     ]
    },
    {
     "name": "stderr",
     "output_type": "stream",
     "text": [
      "/home/ritesh/anaconda3/lib/python3.6/site-packages/sklearn/ensemble/forest.py:246: FutureWarning: The default value of n_estimators will change from 10 in version 0.20 to 100 in 0.22.\n",
      "  \"10 in version 0.20 to 100 in 0.22.\", FutureWarning)\n"
     ]
    },
    {
     "name": "stdout",
     "output_type": "stream",
     "text": [
      "1381 1381\n"
     ]
    },
    {
     "name": "stderr",
     "output_type": "stream",
     "text": [
      "/home/ritesh/anaconda3/lib/python3.6/site-packages/sklearn/ensemble/forest.py:246: FutureWarning: The default value of n_estimators will change from 10 in version 0.20 to 100 in 0.22.\n",
      "  \"10 in version 0.20 to 100 in 0.22.\", FutureWarning)\n"
     ]
    },
    {
     "name": "stdout",
     "output_type": "stream",
     "text": [
      "1381 1381\n"
     ]
    },
    {
     "name": "stderr",
     "output_type": "stream",
     "text": [
      "/home/ritesh/anaconda3/lib/python3.6/site-packages/sklearn/ensemble/forest.py:246: FutureWarning: The default value of n_estimators will change from 10 in version 0.20 to 100 in 0.22.\n",
      "  \"10 in version 0.20 to 100 in 0.22.\", FutureWarning)\n"
     ]
    },
    {
     "name": "stdout",
     "output_type": "stream",
     "text": [
      "1381 1381\n"
     ]
    },
    {
     "name": "stderr",
     "output_type": "stream",
     "text": [
      "/home/ritesh/anaconda3/lib/python3.6/site-packages/sklearn/ensemble/forest.py:246: FutureWarning: The default value of n_estimators will change from 10 in version 0.20 to 100 in 0.22.\n",
      "  \"10 in version 0.20 to 100 in 0.22.\", FutureWarning)\n"
     ]
    },
    {
     "name": "stdout",
     "output_type": "stream",
     "text": [
      "1381 1381\n"
     ]
    },
    {
     "name": "stderr",
     "output_type": "stream",
     "text": [
      "/home/ritesh/anaconda3/lib/python3.6/site-packages/sklearn/ensemble/forest.py:246: FutureWarning: The default value of n_estimators will change from 10 in version 0.20 to 100 in 0.22.\n",
      "  \"10 in version 0.20 to 100 in 0.22.\", FutureWarning)\n"
     ]
    },
    {
     "name": "stdout",
     "output_type": "stream",
     "text": [
      "1381 1381\n"
     ]
    }
   ],
   "source": [
    "time_scikit = []\n",
    "scikit_res = []\n",
    "for i in range(2,56,2):\n",
    "    start = time.time()\n",
    "    clf=RandomForestClassifier(max_features=i)\n",
    "    clf.fit(X_tra, y_tra)\n",
    "    pred = clf.predict(X_test)\n",
    "    scikit_res.append(accuracy(pred,y_test))\n",
    "    end = time.time()\n",
    "    time_scikit.append(end-start)"
   ]
  },
  {
   "cell_type": "code",
   "execution_count": 67,
   "metadata": {},
   "outputs": [
    {
     "name": "stdout",
     "output_type": "stream",
     "text": [
      "Accuracy and correspoding time\n",
      "[94.78638667632151, 94.5691527878349, 94.93120926864592, 94.93120926864592, 94.6415640839971, 94.4967414916727, 93.9898624185373, 94.93120926864592, 94.27950760318609, 94.42433019551049, 94.71397538015931, 94.0622737146995, 94.85879797248371, 93.77262853005068, 94.5691527878349, 93.70021723388848, 94.0622737146995, 94.1346850108617, 94.78638667632151, 93.9174511223751, 93.84503982621288, 94.0622737146995, 94.2070963070239, 93.62780593772628, 94.27950760318609, 94.27950760318609, 93.84503982621288]\n",
      "[0.10441756248474121, 0.11977410316467285, 0.25308942794799805, 0.23965024948120117, 0.19242072105407715, 0.25943446159362793, 0.16741514205932617, 0.21993446350097656, 0.2600259780883789, 0.3288261890411377, 0.29448628425598145, 0.3636331558227539, 0.39135289192199707, 0.7147488594055176, 0.7983500957489014, 0.6704025268554688, 0.5952112674713135, 0.58144211769104, 0.9007954597473145, 0.6976778507232666, 0.5864591598510742, 0.6420249938964844, 0.7514278888702393, 0.9000113010406494, 0.9824724197387695, 1.1297574043273926, 1.277644157409668]\n"
     ]
    }
   ],
   "source": [
    "print(\"Accuracy and correspoding time\" )\n",
    "print(scikit_res)\n",
    "print(time_scikit)"
   ]
  },
  {
   "cell_type": "markdown",
   "metadata": {},
   "source": [
    "# Sensitivity Plot"
   ]
  },
  {
   "cell_type": "code",
   "execution_count": 42,
   "metadata": {},
   "outputs": [
    {
     "name": "stdout",
     "output_type": "stream",
     "text": [
      "Done with Iteration 0\n",
      "Done with Iteration 1\n",
      "Done with Iteration 2\n",
      "Done with Iteration 3\n",
      "Done with Iteration 4\n",
      "Done with Iteration 5\n",
      "Done with Iteration 6\n",
      "Done with Iteration 7\n",
      "Done with Iteration 8\n",
      "Done with Iteration 9\n",
      "1381 1381\n",
      "Done with Iteration 0\n",
      "Done with Iteration 1\n",
      "Done with Iteration 2\n",
      "Done with Iteration 3\n",
      "Done with Iteration 4\n",
      "Done with Iteration 5\n",
      "Done with Iteration 6\n",
      "Done with Iteration 7\n",
      "Done with Iteration 8\n",
      "Done with Iteration 9\n",
      "1381 1381\n",
      "Done with Iteration 0\n",
      "Done with Iteration 1\n",
      "Done with Iteration 2\n",
      "Done with Iteration 3\n",
      "Done with Iteration 4\n",
      "Done with Iteration 5\n",
      "Done with Iteration 6\n",
      "Done with Iteration 7\n",
      "Done with Iteration 8\n",
      "Done with Iteration 9\n",
      "1381 1381\n",
      "Done with Iteration 0\n",
      "Done with Iteration 1\n",
      "Done with Iteration 2\n",
      "Done with Iteration 3\n",
      "Done with Iteration 4\n",
      "Done with Iteration 5\n",
      "Done with Iteration 6\n",
      "Done with Iteration 7\n",
      "Done with Iteration 8\n",
      "Done with Iteration 9\n",
      "1381 1381\n",
      "Done with Iteration 0\n",
      "Done with Iteration 1\n",
      "Done with Iteration 2\n",
      "Done with Iteration 3\n",
      "Done with Iteration 4\n",
      "Done with Iteration 5\n",
      "Done with Iteration 6\n",
      "Done with Iteration 7\n",
      "Done with Iteration 8\n",
      "Done with Iteration 9\n",
      "1381 1381\n",
      "Done with Iteration 0\n",
      "Done with Iteration 1\n",
      "Done with Iteration 2\n",
      "Done with Iteration 3\n",
      "Done with Iteration 4\n",
      "Done with Iteration 5\n",
      "Done with Iteration 6\n",
      "Done with Iteration 7\n",
      "Done with Iteration 8\n",
      "Done with Iteration 9\n",
      "1381 1381\n",
      "Done with Iteration 0\n",
      "Done with Iteration 1\n",
      "Done with Iteration 2\n",
      "Done with Iteration 3\n",
      "Done with Iteration 4\n",
      "Done with Iteration 5\n",
      "Done with Iteration 6\n",
      "Done with Iteration 7\n",
      "Done with Iteration 8\n",
      "Done with Iteration 9\n",
      "1381 1381\n",
      "Done with Iteration 0\n",
      "Done with Iteration 1\n",
      "Done with Iteration 2\n",
      "Done with Iteration 3\n",
      "Done with Iteration 4\n",
      "Done with Iteration 5\n",
      "Done with Iteration 6\n",
      "Done with Iteration 7\n",
      "Done with Iteration 8\n",
      "Done with Iteration 9\n",
      "1381 1381\n",
      "Done with Iteration 0\n",
      "Done with Iteration 1\n",
      "Done with Iteration 2\n",
      "Done with Iteration 3\n",
      "Done with Iteration 4\n",
      "Done with Iteration 5\n",
      "Done with Iteration 6\n",
      "Done with Iteration 7\n",
      "Done with Iteration 8\n",
      "Done with Iteration 9\n",
      "1381 1381\n",
      "Done with Iteration 0\n",
      "Done with Iteration 1\n",
      "Done with Iteration 2\n",
      "Done with Iteration 3\n",
      "Done with Iteration 4\n",
      "Done with Iteration 5\n",
      "Done with Iteration 6\n",
      "Done with Iteration 7\n",
      "Done with Iteration 8\n",
      "Done with Iteration 9\n",
      "1381 1381\n",
      "Done with Iteration 0\n",
      "Done with Iteration 1\n",
      "Done with Iteration 2\n",
      "Done with Iteration 3\n",
      "Done with Iteration 4\n",
      "Done with Iteration 5\n",
      "Done with Iteration 6\n",
      "Done with Iteration 7\n",
      "Done with Iteration 8\n",
      "Done with Iteration 9\n",
      "1381 1381\n",
      "Done with Iteration 0\n",
      "Done with Iteration 1\n",
      "Done with Iteration 2\n",
      "Done with Iteration 3\n",
      "Done with Iteration 4\n",
      "Done with Iteration 5\n",
      "Done with Iteration 6\n",
      "Done with Iteration 7\n",
      "Done with Iteration 8\n",
      "Done with Iteration 9\n",
      "1381 1381\n",
      "Done with Iteration 0\n",
      "Done with Iteration 1\n",
      "Done with Iteration 2\n",
      "Done with Iteration 3\n",
      "Done with Iteration 4\n",
      "Done with Iteration 5\n",
      "Done with Iteration 6\n",
      "Done with Iteration 7\n",
      "Done with Iteration 8\n",
      "Done with Iteration 9\n",
      "1381 1381\n",
      "Done with Iteration 0\n",
      "Done with Iteration 1\n",
      "Done with Iteration 2\n",
      "Done with Iteration 3\n",
      "Done with Iteration 4\n",
      "Done with Iteration 5\n",
      "Done with Iteration 6\n",
      "Done with Iteration 7\n",
      "Done with Iteration 8\n",
      "Done with Iteration 9\n",
      "1381 1381\n",
      "Done with Iteration 0\n",
      "Done with Iteration 1\n",
      "Done with Iteration 2\n",
      "Done with Iteration 3\n",
      "Done with Iteration 4\n",
      "Done with Iteration 5\n",
      "Done with Iteration 6\n",
      "Done with Iteration 7\n",
      "Done with Iteration 8\n",
      "Done with Iteration 9\n",
      "1381 1381\n",
      "Done with Iteration 0\n",
      "Done with Iteration 1\n",
      "Done with Iteration 2\n",
      "Done with Iteration 3\n",
      "Done with Iteration 4\n",
      "Done with Iteration 5\n",
      "Done with Iteration 6\n",
      "Done with Iteration 7\n",
      "Done with Iteration 8\n",
      "Done with Iteration 9\n",
      "1381 1381\n",
      "Done with Iteration 0\n",
      "Done with Iteration 1\n",
      "Done with Iteration 2\n",
      "Done with Iteration 3\n",
      "Done with Iteration 4\n",
      "Done with Iteration 5\n",
      "Done with Iteration 6\n",
      "Done with Iteration 7\n",
      "Done with Iteration 8\n",
      "Done with Iteration 9\n",
      "1381 1381\n",
      "Done with Iteration 0\n",
      "Done with Iteration 1\n",
      "Done with Iteration 2\n",
      "Done with Iteration 3\n",
      "Done with Iteration 4\n",
      "Done with Iteration 5\n",
      "Done with Iteration 6\n",
      "Done with Iteration 7\n",
      "Done with Iteration 8\n",
      "Done with Iteration 9\n",
      "1381 1381\n",
      "Done with Iteration 0\n",
      "Done with Iteration 1\n",
      "Done with Iteration 2\n",
      "Done with Iteration 3\n",
      "Done with Iteration 4\n",
      "Done with Iteration 5\n",
      "Done with Iteration 6\n",
      "Done with Iteration 7\n",
      "Done with Iteration 8\n",
      "Done with Iteration 9\n",
      "1381 1381\n",
      "Done with Iteration 0\n",
      "Done with Iteration 1\n",
      "Done with Iteration 2\n",
      "Done with Iteration 3\n",
      "Done with Iteration 4\n",
      "Done with Iteration 5\n",
      "Done with Iteration 6\n",
      "Done with Iteration 7\n",
      "Done with Iteration 8\n",
      "Done with Iteration 9\n",
      "1381 1381\n",
      "Done with Iteration 0\n",
      "Done with Iteration 1\n",
      "Done with Iteration 2\n",
      "Done with Iteration 3\n",
      "Done with Iteration 4\n",
      "Done with Iteration 5\n",
      "Done with Iteration 6\n",
      "Done with Iteration 7\n",
      "Done with Iteration 8\n",
      "Done with Iteration 9\n",
      "1381 1381\n",
      "Done with Iteration 0\n",
      "Done with Iteration 1\n",
      "Done with Iteration 2\n",
      "Done with Iteration 3\n",
      "Done with Iteration 4\n",
      "Done with Iteration 5\n",
      "Done with Iteration 6\n",
      "Done with Iteration 7\n",
      "Done with Iteration 8\n",
      "Done with Iteration 9\n",
      "1381 1381\n",
      "Done with Iteration 0\n",
      "Done with Iteration 1\n",
      "Done with Iteration 2\n",
      "Done with Iteration 3\n",
      "Done with Iteration 4\n",
      "Done with Iteration 5\n",
      "Done with Iteration 6\n",
      "Done with Iteration 7\n",
      "Done with Iteration 8\n",
      "Done with Iteration 9\n",
      "1381 1381\n",
      "Done with Iteration 0\n",
      "Done with Iteration 1\n",
      "Done with Iteration 2\n",
      "Done with Iteration 3\n",
      "Done with Iteration 4\n",
      "Done with Iteration 5\n",
      "Done with Iteration 6\n",
      "Done with Iteration 7\n",
      "Done with Iteration 8\n",
      "Done with Iteration 9\n",
      "1381 1381\n",
      "Done with Iteration 0\n",
      "Done with Iteration 1\n",
      "Done with Iteration 2\n",
      "Done with Iteration 3\n",
      "Done with Iteration 4\n",
      "Done with Iteration 5\n",
      "Done with Iteration 6\n",
      "Done with Iteration 7\n",
      "Done with Iteration 8\n",
      "Done with Iteration 9\n",
      "1381 1381\n",
      "Done with Iteration 0\n",
      "Done with Iteration 1\n",
      "Done with Iteration 2\n",
      "Done with Iteration 3\n",
      "Done with Iteration 4\n",
      "Done with Iteration 5\n",
      "Done with Iteration 6\n",
      "Done with Iteration 7\n",
      "Done with Iteration 8\n",
      "Done with Iteration 9\n",
      "1381 1381\n",
      "Done with Iteration 0\n",
      "Done with Iteration 1\n",
      "Done with Iteration 2\n",
      "Done with Iteration 3\n",
      "Done with Iteration 4\n",
      "Done with Iteration 5\n",
      "Done with Iteration 6\n",
      "Done with Iteration 7\n",
      "Done with Iteration 8\n",
      "Done with Iteration 9\n",
      "1381 1381\n"
     ]
    }
   ],
   "source": [
    "final_res = []\n",
    "time_RF = []\n",
    "for m in range(2,56,2):\n",
    "    start = time.time()\n",
    "    final_res.append(test(randomforest(m),X_test,y_test))\n",
    "    end = time.time()\n",
    "    time_RF.append(end-start)"
   ]
  },
  {
   "cell_type": "code",
   "execution_count": 68,
   "metadata": {},
   "outputs": [
    {
     "name": "stdout",
     "output_type": "stream",
     "text": [
      "Sensitivity Accuracies with different m [40.62273714699493, 45.54670528602462, 46.99493120926865, 50.832729905865314, 59.015206372194065, 62.99782766111514, 64.66328747284577, 65.17016654598117, 71.61477190441708, 74.65604634322955, 77.4076755973932, 82.76611151339608, 77.5524981897176, 80.37653874004344, 82.40405503258509, 82.76611151339608, 82.6212889210717, 82.83852280955828, 86.38667632150614, 87.47284576393918, 87.03837798696597, 89.57277335264301, 88.6314265025344, 89.2831281679942, 89.86241853729182, 89.210716871832, 89.210716871832]\n"
     ]
    }
   ],
   "source": [
    "print(\"Sensitivity Accuracies with different m\",final_res)"
   ]
  },
  {
   "cell_type": "markdown",
   "metadata": {},
   "source": [
    "# Plotting Graph of sensitivity"
   ]
  },
  {
   "cell_type": "code",
   "execution_count": 44,
   "metadata": {},
   "outputs": [
    {
     "data": {
      "image/png": "[encoded data removed]",
      "text/plain": [
       "<Figure size 432x288 with 1 Axes>"
      ]
     },
     "metadata": {
      "needs_background": "light"
     },
     "output_type": "display_data"
    }
   ],
   "source": [
    "\n",
    "x = []\n",
    "for m in range(2,56,2):\n",
    "    x.append(m)\n",
    "training_errors = []\n",
    "for i in range(len(final_res)):\n",
    "    training_errors.append(100-final_res[i])\n",
    "plt.plot(x, training_errors) \n",
    "  \n",
    "plt.xlabel('m(number of feature)') \n",
    "plt.ylabel('error') \n",
    "  \n",
    "# giving a title to my graph \n",
    "plt.title('Sensitivity of Random Forest') \n",
    "  \n",
    "# function to show the plot \n",
    "plt.show()"
   ]
  },
  {
   "cell_type": "markdown",
   "metadata": {},
   "source": [
    "# Compare with Scikit learn and Scratch RF"
   ]
  },
  {
   "cell_type": "code",
   "execution_count": 50,
   "metadata": {},
   "outputs": [
    {
     "data": {
      "image/png": "[encoded data removed]",
      "text/plain": [
       "<Figure size 432x288 with 1 Axes>"
      ]
     },
     "metadata": {
      "needs_background": "light"
     },
     "output_type": "display_data"
    }
   ],
   "source": [
    "import matplotlib.pyplot as plt \n",
    "x = []\n",
    "for m in range(2,56,2):\n",
    "    x.append(m)\n",
    "test_errors = []\n",
    "scikit_test_error = []\n",
    "for i in range(len(final_res)):\n",
    "    test_errors.append(100-final_res[i])\n",
    "    scikit_test_error.append(100-scikit_res[i])\n",
    "plt.plot(x, test_errors,color = 'r',label = 'Scratch RF')\n",
    "plt.plot(x, scikit_test_error,color = 'b',label = 'Scikit-Learn RF')\n",
    "  \n",
    "plt.xlabel('m(number of feature)') \n",
    "plt.ylabel('test error') \n",
    "  \n",
    "# giving a title to my graph \n",
    "plt.title('test error vs m') \n",
    "plt.legend(['Scratch RF', 'Scikit-Learn RF'], loc='upper right')  \n",
    "# function to show the plot \n",
    "plt.show()"
   ]
  },
  {
   "cell_type": "code",
   "execution_count": 52,
   "metadata": {},
   "outputs": [
    {
     "data": {
      "image/png": "[encoded data removed]",
      "text/plain": [
       "<Figure size 432x288 with 1 Axes>"
      ]
     },
     "metadata": {
      "needs_background": "light"
     },
     "output_type": "display_data"
    }
   ],
   "source": [
    "x = []\n",
    "for m in range(2,56,2):\n",
    "    x.append(m)\n",
    "plt.plot(x, time_RF,color = 'r',label = 'Scratch RF')\n",
    "plt.plot(x, time_scikit,color = 'b',label = 'Scikit-Learn RF')\n",
    "  \n",
    "plt.xlabel('m(number of feature)') \n",
    "plt.ylabel('time') \n",
    "  \n",
    "# giving a title to my graph \n",
    "plt.title('time vs m') \n",
    "plt.legend(['Scratch RF', 'Scikit-Learn RF'], loc='upper left')  \n",
    "# function to show the plot \n",
    "plt.show()"
   ]
  },
  {
   "cell_type": "markdown",
   "metadata": {},
   "source": [
    "# OOB Error"
   ]
  },
  {
   "cell_type": "code",
   "execution_count": 60,
   "metadata": {},
   "outputs": [],
   "source": [
    "def randomforestOOB(m):\n",
    "    total_feature = train_data.shape[1]-1\n",
    "    no_of_itr = 10\n",
    "    acc = []\n",
    "    pred = []\n",
    "    total_tree = []\n",
    "    for itr in range(no_of_itr):\n",
    "        rand = np.arange(total_feature)\n",
    "        rand = list(rand)\n",
    "        feature_list = random.sample(rand, k=m)\n",
    "        print('features', itr)\n",
    "        #features_to_train = m\n",
    "        sample = 2000\n",
    "        X_tr = train_data[:sample,:]\n",
    "        #build the tree\n",
    "        tree = build_tree(X_tr,feature_list)\n",
    "        total_tree.append(tree)\n",
    "    return total_tree"
   ]
  },
  {
   "cell_type": "code",
   "execution_count": 61,
   "metadata": {},
   "outputs": [
    {
     "name": "stdout",
     "output_type": "stream",
     "text": [
      "features 0\n",
      "features 1\n",
      "features 2\n",
      "features 3\n",
      "features 4\n",
      "features 5\n",
      "features 6\n",
      "features 7\n",
      "features 8\n",
      "features 9\n",
      "features 0\n",
      "features 1\n",
      "features 2\n",
      "features 3\n",
      "features 4\n",
      "features 5\n",
      "features 6\n",
      "features 7\n",
      "features 8\n",
      "features 9\n",
      "features 0\n",
      "features 1\n",
      "features 2\n",
      "features 3\n",
      "features 4\n",
      "features 5\n",
      "features 6\n",
      "features 7\n",
      "features 8\n",
      "features 9\n",
      "features 0\n",
      "features 1\n",
      "features 2\n",
      "features 3\n",
      "features 4\n",
      "features 5\n",
      "features 6\n",
      "features 7\n",
      "features 8\n",
      "features 9\n",
      "features 0\n",
      "features 1\n",
      "features 2\n",
      "features 3\n",
      "features 4\n",
      "features 5\n",
      "features 6\n",
      "features 7\n",
      "features 8\n",
      "features 9\n",
      "features 0\n",
      "features 1\n",
      "features 2\n",
      "features 3\n",
      "features 4\n",
      "features 5\n",
      "features 6\n",
      "features 7\n",
      "features 8\n",
      "features 9\n",
      "features 0\n",
      "features 1\n",
      "features 2\n",
      "features 3\n",
      "features 4\n",
      "features 5\n",
      "features 6\n",
      "features 7\n",
      "features 8\n",
      "features 9\n",
      "features 0\n",
      "features 1\n",
      "features 2\n",
      "features 3\n",
      "features 4\n",
      "features 5\n",
      "features 6\n",
      "features 7\n",
      "features 8\n",
      "features 9\n",
      "features 0\n",
      "features 1\n",
      "features 2\n",
      "features 3\n",
      "features 4\n",
      "features 5\n",
      "features 6\n",
      "features 7\n",
      "features 8\n",
      "features 9\n",
      "features 0\n",
      "features 1\n",
      "features 2\n",
      "features 3\n",
      "features 4\n",
      "features 5\n",
      "features 6\n",
      "features 7\n",
      "features 8\n",
      "features 9\n",
      "features 0\n",
      "features 1\n",
      "features 2\n",
      "features 3\n",
      "features 4\n",
      "features 5\n",
      "features 6\n",
      "features 7\n",
      "features 8\n",
      "features 9\n",
      "features 0\n",
      "features 1\n",
      "features 2\n",
      "features 3\n",
      "features 4\n",
      "features 5\n",
      "features 6\n",
      "features 7\n",
      "features 8\n",
      "features 9\n",
      "features 0\n",
      "features 1\n",
      "features 2\n",
      "features 3\n",
      "features 4\n",
      "features 5\n",
      "features 6\n",
      "features 7\n",
      "features 8\n",
      "features 9\n",
      "features 0\n",
      "features 1\n",
      "features 2\n",
      "features 3\n",
      "features 4\n",
      "features 5\n",
      "features 6\n",
      "features 7\n",
      "features 8\n",
      "features 9\n",
      "features 0\n",
      "features 1\n",
      "features 2\n",
      "features 3\n",
      "features 4\n",
      "features 5\n",
      "features 6\n",
      "features 7\n",
      "features 8\n",
      "features 9\n",
      "features 0\n",
      "features 1\n",
      "features 2\n",
      "features 3\n",
      "features 4\n",
      "features 5\n",
      "features 6\n",
      "features 7\n",
      "features 8\n",
      "features 9\n",
      "features 0\n",
      "features 1\n",
      "features 2\n",
      "features 3\n",
      "features 4\n",
      "features 5\n",
      "features 6\n",
      "features 7\n",
      "features 8\n",
      "features 9\n",
      "features 0\n",
      "features 1\n",
      "features 2\n",
      "features 3\n",
      "features 4\n",
      "features 5\n",
      "features 6\n",
      "features 7\n",
      "features 8\n",
      "features 9\n",
      "features 0\n",
      "features 1\n",
      "features 2\n",
      "features 3\n",
      "features 4\n",
      "features 5\n",
      "features 6\n",
      "features 7\n",
      "features 8\n",
      "features 9\n",
      "features 0\n",
      "features 1\n",
      "features 2\n",
      "features 3\n",
      "features 4\n",
      "features 5\n",
      "features 6\n",
      "features 7\n",
      "features 8\n",
      "features 9\n",
      "features 0\n",
      "features 1\n",
      "features 2\n",
      "features 3\n",
      "features 4\n",
      "features 5\n",
      "features 6\n",
      "features 7\n",
      "features 8\n",
      "features 9\n",
      "features 0\n",
      "features 1\n",
      "features 2\n",
      "features 3\n",
      "features 4\n",
      "features 5\n",
      "features 6\n",
      "features 7\n",
      "features 8\n",
      "features 9\n",
      "features 0\n",
      "features 1\n",
      "features 2\n",
      "features 3\n",
      "features 4\n",
      "features 5\n",
      "features 6\n",
      "features 7\n",
      "features 8\n",
      "features 9\n",
      "features 0\n",
      "features 1\n",
      "features 2\n",
      "features 3\n",
      "features 4\n",
      "features 5\n",
      "features 6\n",
      "features 7\n",
      "features 8\n",
      "features 9\n",
      "features 0\n",
      "features 1\n",
      "features 2\n",
      "features 3\n",
      "features 4\n",
      "features 5\n",
      "features 6\n",
      "features 7\n",
      "features 8\n",
      "features 9\n",
      "features 0\n",
      "features 1\n",
      "features 2\n",
      "features 3\n",
      "features 4\n",
      "features 5\n",
      "features 6\n",
      "features 7\n",
      "features 8\n",
      "features 9\n",
      "features 0\n",
      "features 1\n",
      "features 2\n",
      "features 3\n",
      "features 4\n",
      "features 5\n",
      "features 6\n",
      "features 7\n",
      "features 8\n",
      "features 9\n"
     ]
    }
   ],
   "source": [
    "final_res_OOB = []\n",
    "X_test_OOB = train_data[2000:,:-1]\n",
    "y_test_OOB = train_data[2000:,-1]\n",
    "for m in range(2,56,2):\n",
    "    final_res_OOB.append(test(randomforestOOB(m),X_test_OOB,y_test_OOB))\n"
   ]
  },
  {
   "cell_type": "code",
   "execution_count": 62,
   "metadata": {},
   "outputs": [
    {
     "name": "stdout",
     "output_type": "stream",
     "text": [
      "[40.32786885245901, 41.80327868852459, 47.459016393442624, 53.11475409836065, 57.950819672131146, 57.786885245901644, 64.67213114754098, 68.60655737704919, 69.50819672131148, 75.98360655737704, 76.88524590163934, 80.73770491803278, 81.63934426229508, 82.70491803278689, 85.08196721311475, 85.1639344262295, 84.67213114754098, 84.67213114754098, 87.1311475409836, 86.88524590163934, 87.95081967213115, 88.11475409836066, 88.03278688524591, 88.36065573770492, 88.52459016393442, 88.60655737704917, 88.60655737704917]\n"
     ]
    }
   ],
   "source": [
    "print(final_res_OOB)"
   ]
  },
  {
   "cell_type": "code",
   "execution_count": 64,
   "metadata": {},
   "outputs": [
    {
     "data": {
      "image/png": "[encoded data removed]",
      "text/plain": [
       "<Figure size 432x288 with 1 Axes>"
      ]
     },
     "metadata": {
      "needs_background": "light"
     },
     "output_type": "display_data"
    }
   ],
   "source": [
    "x_OOB = []\n",
    "for m in range(2,56,2):\n",
    "    x_OOB.append(m)\n",
    "test_errors = []\n",
    "for i in range(len(final_res)):\n",
    "    test_errors.append(100-final_res_OOB[i])\n",
    "plt.plot(x, test_errors) \n",
    "  \n",
    "plt.xlabel('m(number of feature)') \n",
    "plt.ylabel('test error') \n",
    "  \n",
    "# giving a title to my graph \n",
    "plt.title('OOB error vs m') \n",
    "  \n",
    "# function to show the plot \n",
    "plt.show()"
   ]
  },
  {
   "cell_type": "code",
   "execution_count": null,
   "metadata": {},
   "outputs": [],
   "source": []
  }
 ],
 "metadata": {
  "kernelspec": {
   "display_name": "Python 3",
   "language": "python",
   "name": "python3"
  },
  "language_info": {
   "codemirror_mode": {
    "name": "ipython",
    "version": 3
   },
   "file_extension": ".py",
   "mimetype": "text/x-python",
   "name": "python",
   "nbconvert_exporter": "python",
   "pygments_lexer": "ipython3",
   "version": "3.6.8"
  }
 },
 "nbformat": 4,
 "nbformat_minor": 2
}
